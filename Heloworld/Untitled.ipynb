{
 "cells": [
  {
   "cell_type": "code",
   "execution_count": 29,
   "id": "5dd0f7eb",
   "metadata": {},
   "outputs": [
    {
     "data": {
      "text/plain": [
       "list"
      ]
     },
     "execution_count": 29,
     "metadata": {},
     "output_type": "execute_result"
    }
   ],
   "source": [
    "params = [['PythonIntelligJ','PythonSrc','SnowflakeTGT',\n",
    "           'snowflake-connector-python  and import snowflake.connector',\n",
    "           'Heloworld',\n",
    "           'za80685.ap-south-1.aws',\n",
    "           'MYDB_PRACTICE']]"
   ]
  },
  {
   "cell_type": "code",
   "execution_count": 35,
   "id": "a2bc3d5c",
   "metadata": {},
   "outputs": [
    {
     "name": "stdout",
     "output_type": "stream",
     "text": [
      "0 1 3666 21st St\n",
      "1 2 735 Dolores St\n",
      "2 3 332 Hill St\n",
      "3 4 3995 23rd St\n",
      "4 5 1056 Sanchez St\n",
      "5 6 551 Alvarado St\n"
     ]
    }
   ],
   "source": [
    "import os\n",
    "import sys\n",
    "import pandas\n",
    "df1=pandas.read_csv(\"C:\\\\Personals\\\\Learnings\\\\Python\\\\mysite\\\\Heloworld\\\\files\\\\supermarkets\\\\supermarkets.csv\")\n",
    "#for i in df1.index:\n",
    "#    print(df1['Address'][i], df1['Name'][i])\n",
    "for i,columns in   df1.iterrows():\n",
    "    print(i,columns[0],columns[1])"
   ]
  },
  {
   "cell_type": "code",
   "execution_count": 41,
   "id": "ea7aa85f",
   "metadata": {},
   "outputs": [
    {
     "name": "stdout",
     "output_type": "stream",
     "text": [
      "0 1 3666 21st St\n",
      "1 2 735 Dolores St\n",
      "2 3 332 Hill St\n",
      "3 4 3995 23rd St\n",
      "4 5 1056 Sanchez St\n",
      "5 6 551 Alvarado St\n"
     ]
    }
   ],
   "source": [
    "import pandas\n",
    "df1=pandas.read_csv(\"C:\\\\Personals\\\\Learnings\\\\Python\\\\mysite\\\\Heloworld\\\\files\\\\supermarkets\\\\testdata.csv\")\n",
    "#for i in df1.index:\n",
    "#    print(df1['Address'][i], df1['Name'][i])\n",
    "for i,columns in   df1.iterrows():\n",
    "    print(i,columns[0],columns[1])"
   ]
  },
  {
   "cell_type": "code",
   "execution_count": null,
   "id": "5ff06710",
   "metadata": {},
   "outputs": [],
   "source": []
  }
 ],
 "metadata": {
  "kernelspec": {
   "display_name": "Python 3 (ipykernel)",
   "language": "python",
   "name": "python3"
  },
  "language_info": {
   "codemirror_mode": {
    "name": "ipython",
    "version": 3
   },
   "file_extension": ".py",
   "mimetype": "text/x-python",
   "name": "python",
   "nbconvert_exporter": "python",
   "pygments_lexer": "ipython3",
   "version": "3.9.6"
  }
 },
 "nbformat": 4,
 "nbformat_minor": 5
}
